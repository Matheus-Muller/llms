{
 "cells": [
  {
   "cell_type": "code",
   "execution_count": null,
   "id": "0cbfa1de",
   "metadata": {},
   "outputs": [],
   "source": [
    "import requests\n",
    "from IPython.display import Markdown, display"
   ]
  },
  {
   "cell_type": "code",
   "execution_count": 4,
   "id": "4c7b2585",
   "metadata": {},
   "outputs": [],
   "source": [
    "OLLAMA_API = \"http://localhost:11434/api/chat\"\n",
    "HEADERS = {\n",
    "    \"Content-Type\": \"application/json\"\n",
    "}\n",
    "MODEL = \"llama3.2\""
   ]
  },
  {
   "cell_type": "code",
   "execution_count": 5,
   "id": "52794b0e",
   "metadata": {},
   "outputs": [],
   "source": [
    "messages = [\n",
    "    {\"role\": \"user\", \"content\": \"Describe some of the business applications of Generative AI.\"}\n",
    "]"
   ]
  },
  {
   "cell_type": "code",
   "execution_count": 7,
   "id": "2aed78ce",
   "metadata": {},
   "outputs": [],
   "source": [
    "payload = {\n",
    "    \"model\": MODEL,\n",
    "    \"messages\": messages,\n",
    "    \"stream\": False\n",
    "}"
   ]
  },
  {
   "cell_type": "code",
   "execution_count": 8,
   "id": "a483df7e",
   "metadata": {},
   "outputs": [
    {
     "name": "stdout",
     "output_type": "stream",
     "text": [
      "Generative AI has numerous business applications across various industries, including:\n",
      "\n",
      "1. **Content Generation**: AI-powered tools can generate high-quality content such as blog posts, social media posts, product descriptions, and more. This can help businesses save time and effort in creating content, while also improving consistency and quality.\n",
      "2. **Product Design and Development**: Generative AI can be used to design and develop new products, such as 3D models, product prototypes, and even entire product lines. This can help businesses accelerate their product development process and reduce costs.\n",
      "3. **Marketing Automation**: AI-powered tools can generate personalized marketing campaigns, emails, and ads based on customer data and behavior. This can help businesses improve the effectiveness of their marketing efforts and increase conversions.\n",
      "4. **Customer Service Chatbots**: Generative AI can be used to create chatbots that can engage with customers, answer questions, and provide support. This can help businesses reduce the burden on human customer support agents and improve customer satisfaction.\n",
      "5. **Risk Analysis and Compliance**: AI-powered tools can analyze large datasets and identify potential risks and areas for compliance. This can help businesses stay ahead of regulatory changes and minimize the risk of non-compliance.\n",
      "6. **Predictive Maintenance**: Generative AI can be used to predict when equipment or machinery is likely to fail, allowing businesses to schedule maintenance and reduce downtime. This can help businesses improve their operational efficiency and reduce costs.\n",
      "7. **Supply Chain Optimization**: AI-powered tools can analyze data from supply chains and identify opportunities for improvement. This can help businesses optimize their supply chain operations, reduce costs, and improve delivery times.\n",
      "8. **Personalized Recommendations**: Generative AI can be used to generate personalized product recommendations based on customer behavior and preferences. This can help businesses increase sales and improve customer satisfaction.\n",
      "9. **Data Analysis and Visualization**: AI-powered tools can analyze large datasets and generate insights and visualizations that can help businesses understand their data and make better decisions.\n",
      "10. **Creative Collaboration**: Generative AI can be used to collaborate with human artists, designers, and writers on creative projects. This can help businesses tap into new sources of creativity and innovation.\n",
      "\n",
      "Some specific industries where generative AI is being applied include:\n",
      "\n",
      "* **Finance**: Risk analysis, credit scoring, and financial forecasting\n",
      "* **Healthcare**: Medical diagnosis, patient data analysis, and personalized medicine\n",
      "* **Retail**: Product design, inventory management, and customer service chatbots\n",
      "* **Manufacturing**: Predictive maintenance, quality control, and supply chain optimization\n",
      "* **Marketing**: Content generation, social media advertising, and lead generation\n",
      "\n",
      "These are just a few examples of the many business applications of generative AI. As the technology continues to evolve, we can expect to see even more innovative uses across various industries.\n"
     ]
    }
   ],
   "source": [
    "response = requests.post(OLLAMA_API, json=payload, headers=HEADERS)\n",
    "print(response.json()['message']['content'])"
   ]
  },
  {
   "cell_type": "code",
   "execution_count": 9,
   "id": "ad63c9e8",
   "metadata": {},
   "outputs": [
    {
     "data": {
      "text/markdown": [
       "Generative AI has numerous business applications across various industries, including:\n",
       "\n",
       "1. **Content Generation**: AI-powered tools can generate high-quality content such as blog posts, social media posts, product descriptions, and more. This can help businesses save time and effort in creating content, while also improving consistency and quality.\n",
       "2. **Product Design and Development**: Generative AI can be used to design and develop new products, such as 3D models, product prototypes, and even entire product lines. This can help businesses accelerate their product development process and reduce costs.\n",
       "3. **Marketing Automation**: AI-powered tools can generate personalized marketing campaigns, emails, and ads based on customer data and behavior. This can help businesses improve the effectiveness of their marketing efforts and increase conversions.\n",
       "4. **Customer Service Chatbots**: Generative AI can be used to create chatbots that can engage with customers, answer questions, and provide support. This can help businesses reduce the burden on human customer support agents and improve customer satisfaction.\n",
       "5. **Risk Analysis and Compliance**: AI-powered tools can analyze large datasets and identify potential risks and areas for compliance. This can help businesses stay ahead of regulatory changes and minimize the risk of non-compliance.\n",
       "6. **Predictive Maintenance**: Generative AI can be used to predict when equipment or machinery is likely to fail, allowing businesses to schedule maintenance and reduce downtime. This can help businesses improve their operational efficiency and reduce costs.\n",
       "7. **Supply Chain Optimization**: AI-powered tools can analyze data from supply chains and identify opportunities for improvement. This can help businesses optimize their supply chain operations, reduce costs, and improve delivery times.\n",
       "8. **Personalized Recommendations**: Generative AI can be used to generate personalized product recommendations based on customer behavior and preferences. This can help businesses increase sales and improve customer satisfaction.\n",
       "9. **Data Analysis and Visualization**: AI-powered tools can analyze large datasets and generate insights and visualizations that can help businesses understand their data and make better decisions.\n",
       "10. **Creative Collaboration**: Generative AI can be used to collaborate with human artists, designers, and writers on creative projects. This can help businesses tap into new sources of creativity and innovation.\n",
       "\n",
       "Some specific industries where generative AI is being applied include:\n",
       "\n",
       "* **Finance**: Risk analysis, credit scoring, and financial forecasting\n",
       "* **Healthcare**: Medical diagnosis, patient data analysis, and personalized medicine\n",
       "* **Retail**: Product design, inventory management, and customer service chatbots\n",
       "* **Manufacturing**: Predictive maintenance, quality control, and supply chain optimization\n",
       "* **Marketing**: Content generation, social media advertising, and lead generation\n",
       "\n",
       "These are just a few examples of the many business applications of generative AI. As the technology continues to evolve, we can expect to see even more innovative uses across various industries."
      ],
      "text/plain": [
       "<IPython.core.display.Markdown object>"
      ]
     },
     "metadata": {},
     "output_type": "display_data"
    }
   ],
   "source": [
    "display(Markdown(response.json()['message']['content']))"
   ]
  },
  {
   "cell_type": "markdown",
   "id": "04679d25",
   "metadata": {},
   "source": [
    "## Using Ollama API"
   ]
  },
  {
   "cell_type": "code",
   "execution_count": 10,
   "id": "79675403",
   "metadata": {},
   "outputs": [],
   "source": [
    "import ollama"
   ]
  },
  {
   "cell_type": "code",
   "execution_count": 11,
   "id": "4ab8f67f",
   "metadata": {},
   "outputs": [
    {
     "data": {
      "text/markdown": [
       "Generative AI has numerous business applications across various industries, including:\n",
       "\n",
       "1. **Content Generation**: AI-powered tools can generate high-quality content such as blog posts, social media posts, product descriptions, and more, freeing up human writers' time for higher-level creative work.\n",
       "2. **Marketing Automation**: Generative AI can help automate marketing campaigns by generating personalized email subject lines, ad copy, and product recommendations based on customer behavior and preferences.\n",
       "3. **Product Design and Development**: AI-powered design tools can generate new product designs, prototypes, and even entire product lines, reducing the time and cost associated with traditional design processes.\n",
       "4. **Data Analysis and Insights**: Generative AI can analyze large datasets to identify trends, patterns, and insights that may not be visible to human analysts, enabling businesses to make data-driven decisions.\n",
       "5. **Personalization**: AI-powered systems can generate personalized recommendations for customers based on their behavior, preferences, and demographics, improving the overall customer experience.\n",
       "6. **Chatbots and Virtual Assistants**: Generative AI can power chatbots and virtual assistants that can understand natural language, respond accordingly, and even engage in conversations with customers.\n",
       "7. **Image and Video Generation**: AI-powered tools can generate high-quality images and videos for various applications such as advertising, marketing, and entertainment.\n",
       "8. **Music and Audio Generation**: Generative AI can create original music, sound effects, and audio content for various industries such as film, gaming, and advertising.\n",
       "9. **Language Translation**: AI-powered translation tools can generate accurate translations of text, speech, and even entire documents, breaking language barriers across cultures and markets.\n",
       "10. **Predictive Maintenance**: Generative AI can analyze sensor data from machines and equipment to predict when maintenance is required, reducing downtime and increasing overall efficiency.\n",
       "\n",
       "Some specific examples of businesses using generative AI include:\n",
       "\n",
       "* **Amazon** uses generative AI to power its Alexa virtual assistant and generate product recommendations based on customer behavior.\n",
       "* **Netflix** uses generative AI to create personalized content recommendations for its users.\n",
       "* **Microsoft** uses generative AI to power its Azure Machine Learning platform, which helps businesses develop predictive models and automate tasks.\n",
       "* **Google** uses generative AI to power its Google Cloud AI Platform, which provides a suite of tools and services for building, training, and deploying AI models.\n",
       "\n",
       "These are just a few examples of the many business applications of generative AI. As the technology continues to evolve, we can expect to see even more innovative use cases across various industries."
      ],
      "text/plain": [
       "<IPython.core.display.Markdown object>"
      ]
     },
     "metadata": {},
     "output_type": "display_data"
    }
   ],
   "source": [
    "response = ollama.chat(\n",
    "    model=MODEL,\n",
    "    messages=messages\n",
    ")\n",
    "\n",
    "display(Markdown(response['message']['content']))"
   ]
  }
 ],
 "metadata": {
  "kernelspec": {
   "display_name": "llms-studies-env",
   "language": "python",
   "name": "python3"
  },
  "language_info": {
   "codemirror_mode": {
    "name": "ipython",
    "version": 3
   },
   "file_extension": ".py",
   "mimetype": "text/x-python",
   "name": "python",
   "nbconvert_exporter": "python",
   "pygments_lexer": "ipython3",
   "version": "3.11.12"
  }
 },
 "nbformat": 4,
 "nbformat_minor": 5
}
